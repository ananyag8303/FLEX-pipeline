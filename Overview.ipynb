{
 "cells": [
  {
   "cell_type": "markdown",
   "id": "54099dbb",
   "metadata": {},
   "source": [
    "<div style=\"text-align: center;\">\n",
    "    <strong style=\"font-size: 2em;\">Math Overview</strong>\n",
    "</div>\n",
    "\n",
    "Disc galaxies have a negative exponential surface brightness profile as described by Equation \\ref{eq1}, where '$a$' is the scale length of the disc. These galaxies are often reasonably smooth in the azimuthal coordinate '$\\phi$', with low-order multiplicity '$m$' and can be described by Fourier Series. \n",
    "\n",
    "\\begin{align}\n",
    "\\Sigma(R) \\propto \\exp\\left(-\\frac{R}{a}\\right) \\label{eq1}\\tag{1}\n",
    "\\end{align}\n",
    "\n",
    "In the radial '$R$' coordinate, Laguerre basis functions, as shown in Equation \\ref{eq2}, are utilised as the exponential term closely approximates to the exponential profile of a typical disc galaxy (Equation \\ref{eq1}). Here, in Equation \\ref{eq2}, '$L_n^1$' is the associated Laguerre polynomial of order '$\\alpha=1$' and degree '$n$', and '$a$' is the expansion scale length.\n",
    "\n",
    "\\begin{align}\n",
    "G_n(R)=\\frac{1}{a\\sqrt{n+1}}~\\exp\\left(-\\frac{R}{a}\\right)~L_n^1\\left(\\frac{2R}{a}\\right) \\label{eq2}\\tag{2}\n",
    "\\end{align}\n",
    "\n",
    "Hence, Fourier-Laguerre basis functions can accurately model the surface brightness profile of discs in 2 dimensions. '$G_n(R)\\cos{m\\phi}$' and '$G_n(R)\\sin{m\\phi}$', known as Fourier-Laguerre functions, comprise of coefficients $\\hat{c}_{mn}$ and $\\hat{s}_{mn}$, that are naturally determined by the projection of the surface density, $\\Sigma(R,\\phi)$, into the basis functions. These coefficients are calculated as shown in Equation \\ref{eq3}, where $(R_{xy},\\phi_{xy})$ is the polar position of pixel $(x,y)$. It's worth noting here that discretion summations are used over continuous integrals as our model is accumulating discrete pixels in $(x,y)$. \n",
    "\n",
    "\\begin{align}\n",
    "\\hat{c}_{mn} = \\frac{1}{2\\pi}\\sum_x \\sum_y \\Sigma(R_{xy}, \\phi_{xy})\\cos\\left(m\\phi_{xy}\\right) G_n(R_i)\\\\\n",
    "\\hat{s}_{mn} = \\frac{1}{2\\pi}\\sum_x \\sum_y \\Sigma(R_{xy}, \\phi_{xy})\\sin\\left(m\\phi_{xy}\\right) G_n(R_i) \\label{eq3}\\tag{3}\n",
    "\\end{align}"
   ]
  },
  {
   "cell_type": "code",
   "execution_count": null,
   "id": "d85bba8c",
   "metadata": {},
   "outputs": [],
   "source": []
  }
 ],
 "metadata": {
  "kernelspec": {
   "display_name": "Python 3 (ipykernel)",
   "language": "python",
   "name": "python3"
  },
  "language_info": {
   "codemirror_mode": {
    "name": "ipython",
    "version": 3
   },
   "file_extension": ".py",
   "mimetype": "text/x-python",
   "name": "python",
   "nbconvert_exporter": "python",
   "pygments_lexer": "ipython3",
   "version": "3.9.19"
  }
 },
 "nbformat": 4,
 "nbformat_minor": 5
}
