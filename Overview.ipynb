{
 "cells": [
  {
   "cell_type": "markdown",
   "id": "54099dbb",
   "metadata": {},
   "source": [
    "<div style=\"text-align: center;\">\n",
    "    <strong style=\"font-size: 2em;\">Math Overview</strong>\n",
    "</div>\n",
    "\n",
    "Disc galaxies have a negative exponential surface brightness profile as described by Equation \\ref{eq1}, where '$a$' is the scale length of the disc. \n",
    "\n",
    "\\begin{align}\n",
    "\\Sigma(R) \\propto \\exp\\left(-\\frac{R}{a}\\right) \\label{eq1}\\tag{1}\n",
    "\\end{align}\n",
    "\n",
    "These galaxies are often reasonably smooth in the azimuthal coordinate '$\\phi$', with low-order multiplicity '$m$' and can be described by Fourier Series. The orthogonal sine ($s_{mj}(R)$) and cosine ($c_{mj}(R)$) coefficients when evaluated at each individual location $\\sum(R_{xy},\\phi_{xy})$ can be described as shown in Equation \\ref{eq2}.\n",
    "\n",
    "\\begin{align}\n",
    "c_{mj}(R) = \\frac{1}{2\\pi} \\sum_{i=1}^{N} \\cos(m\\phi_i) m_i v_{ij}\\\\\n",
    "s_{mj}(R) = \\frac{1}{2\\pi} \\sum_{i=1}^{N} \\sin(m\\phi_i) m_i v_{ij} \\label{eq2}\\tag{2}\n",
    "\\end{align}\n",
    "\n",
    "In the radial '$R$' coordinate, Associated Laguerre Polynomials are used which are orthogonal (Equation \\ref{eq3}) with respect to its weighting function $w_{x} = x^{\\alpha}\\text{exp}(-x)$ from $[0,\\infty)$. When measuring the cylindrical volume '$RdR$', $\\alpha = 1$ is the appropriate choice. \n",
    "\n",
    "$$\n",
    "\\int_0^\\infty L_n^{(\\alpha)}(x) L_m^{(\\alpha)}(x) x^\\alpha \\exp(-x) \\, dx = \\gamma_n \\delta_{nm} = \\frac{\\Gamma(n + \\alpha + 1)}{n!} \\delta_{nm} \\label{eq3}\\tag{3}\n",
    "$$\n",
    "\n",
    "$$ \n",
    "\\frac{\\Gamma(n + \\alpha + 1)}{n!}  = \\frac{\\Gamma(n + 2)}{n!} = \\frac{(n + 1)!}{n!} = (n + 1)\\label{eq4}\\tag{4}\n",
    "$$\n",
    "\n",
    "\n",
    "Given this the weighted function $w_{x} = x\\text{exp}(-x)$ and $\\gamma_n$, the norm of the associated Laguerre, can be reduced as shown in Equation \\ref{eq4}. The respective orthogonal function '$f_n(x)$' is shown in Equation \\ref{eq5} and the associated Laguerre Polynomial has been defined in Equation \\ref{eq6}. Here, the exponential term  matches that shown in Equation \\ref{eq1} thus showing their ability to desrcibe the disc's surface density. Here, $x = \\frac{2R}{a}$ where $R$ is the radial distance and $a$ is the scale length as expressed in native image units like pixels. \n",
    "\n",
    "$$\n",
    "f_n(x) = \\exp\\left(-\\frac{x}{2}\\right) L_n^{(1)}(x)\\label{eq5}\\tag{5}\n",
    "$$\n",
    "\n",
    "$$\n",
    "G_n(R)=\\frac{1}{a\\sqrt{n+1}}~\\exp\\left(-\\frac{R}{a}\\right)~L_n^1\\left(\\frac{2R}{a}\\right) \\label{eq6}\\tag{6}\n",
    "$$\n",
    "\n",
    "In such expansions $G_{0}(R)$, term as indicated by Equation \\ref{eq7}, bear the highest power and significance when recondtruction the disc. \n",
    "\n",
    "$$\n",
    "G_{0}(R) = \\left(\\frac{2}{a}\\right)\\text{exp}\\left(\\frac{-R}{a}\\right) \\label{eq7}\\tag{7}\n",
    "$$\n",
    "\n",
    "Therefore the combination of the two series is defined as Fourier - Laguerre basis functions, '$G_n(R)\\cos{m\\phi}$' and '$G_n(R)\\sin{m\\phi}$'. $\\hat{c}_{mn}$ and $\\hat{s}_{mn}$, known as Fourier - Laguerre coefficients, are naturally determined by the projection of the surface density, $\\Sigma(R,\\phi)$, into the basis functions. These coefficients are calculated as shown in Equation \\ref{eq8}, where $(R_{xy},\\phi_{xy})$ is the polar position of pixel $(x,y)$. It's worth noting here that discretion summations are used over continuous integrals as our model is accumulating discrete pixels in $(x,y)$. \n",
    "\n",
    "$$\n",
    "\\hat{c}_{mn} = \\frac{1}{2\\pi}\\sum_x \\sum_y \\Sigma(R_{xy}, \\phi_{xy})\\cos\\left(m\\phi_{xy}\\right) G_n(R_i)\\\\\n",
    "\\hat{s}_{mn} = \\frac{1}{2\\pi}\\sum_x \\sum_y \\Sigma(R_{xy}, \\phi_{xy})\\sin\\left(m\\phi_{xy}\\right) G_n(R_i) \\label{eq8}\\tag{8}\n",
    "$$\n",
    "\n",
    "To reconstruct the disc, refer to Equation \\ref{eq9} below.\n",
    "\n",
    "$$\n",
    "\\hat{\\Sigma}_{\\rm disc}(R, \\phi) = \\sum_m\\sum_n \\left[\\hat{c}_{mn}\\cos\\left(m\\phi_{xy}\\right) + \\hat{s}_{mn}\\sin\\left(m\\phi_{xy}\\right)\\right]G_n(R)\\label{eq9}\\tag{9}\n",
    "$$"
   ]
  },
  {
   "cell_type": "markdown",
   "id": "d85bba8c",
   "metadata": {},
   "source": [
    "![FLEX Pipeline working](./Picture_1.png)"
   ]
  },
  {
   "cell_type": "code",
   "execution_count": null,
   "id": "127e0c26",
   "metadata": {},
   "outputs": [],
   "source": []
  }
 ],
 "metadata": {
  "kernelspec": {
   "display_name": "Python 3 (ipykernel)",
   "language": "python",
   "name": "python3"
  },
  "language_info": {
   "codemirror_mode": {
    "name": "ipython",
    "version": 3
   },
   "file_extension": ".py",
   "mimetype": "text/x-python",
   "name": "python",
   "nbconvert_exporter": "python",
   "pygments_lexer": "ipython3",
   "version": "3.9.19"
  }
 },
 "nbformat": 4,
 "nbformat_minor": 5
}
