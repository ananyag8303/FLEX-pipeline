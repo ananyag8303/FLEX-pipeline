{
 "cells": [
  {
   "cell_type": "markdown",
   "id": "d85bba8c",
   "metadata": {},
   "source": [
    "<div style=\"text-align: center;\">\n",
    "    <strong style=\"font-size: 2em;\">FLEX Pipeline Overview</strong>\n",
    "</div>\n",
    "\n",
    "FLEX is a pipeline created to produce the Fourier - Laguerre coefficients $\\hat{c}_{mn}$ and $\\hat{s}_{mn}$ as shown in Equation 8 above. The pipeline relies on the user to input the galaxy ID's of disc galaxies they intend to search. Currently the pipeline is set up to search through the CEERS fields and the coressponing HST fields released in tandem (https://ceers.github.io/releases.html). \n",
    "\n",
    "The below diagram summarises the main framework of FLEX. \n",
    "\n",
    "![something](./Framework_Tree.png)\n",
    "\n",
    "\n",
    "Below is a detailed description of how FLEX works.\n",
    "\n",
    "<div style=\"text-align: left;\">\n",
    "    <strong style=\"font-size: 1em;\">GalaxyDataExtractor class</strong>\n",
    "</div>\n",
    "\n",
    "1. detect_encoding: Read through data catalogue where RA and Dec values are defined to detect encoding\n",
    "2. get_ra_dec: Search through catalogue and extract RA and Dec value based on user inputted galaxy IDs\n",
    "3. sersic_profile: Sersic Profile the disc galaxy's luminosity distribution based on extracted pixel data\n",
    "4. determine_galaxy_radius: Determine the entered galaxy ID's main radius beyond which background interference is removed\n",
    "5. get_fits_data: Read in the respective filter's FITS image and create a 110 by 110 pixel cutout around the galactic centre. Then determine the galaxy radius using 'determine_galaxy_radius' method in the longest wavelength filter here being F444W. Based on this, mask out any values \n",
    "6. create_full_image: Create an image grid that comprises of four arrays stacked with each other: cropped image array and associated uncertainty and meshgrid of x and y pixels \n",
    "7. process_galaxies: This method performs several tasks as laid out below:\n",
    "- Retrieving Right Ascension (RA) and Declination (Dec) coordinates from the CANDELS catalogue.\n",
    "- Identifying the corresponding FITS file for each galaxy, based on its RA and Dec coordinates.\n",
    "- Converting RA and Dec to pixel coordinates within the identified FITS file and checking if the galaxy falls within the image bounds.\n",
    "- Using the F444W filter data to determine the radius of the galaxy in the FITS images.\n",
    "- Extracting the galaxy image data and uncertainty arrays from multiple filters, centered on the galaxy and limited to the determined radius.\n",
    "- Organizing the extracted data into a structured HDF5 file, where the data is categorized by filter.\n",
    "- Logging any galaxies where the image data contains zero values or falls at the edge of the detector.\n",
    "\n",
    "<div style=\"text-align: left;\">\n",
    "    <strong style=\"font-size: 1em;\">LaguerreAmplitudes class</strong>\n",
    "</div>\n",
    "\n",
    "1. redsnapshot: Extract image array from HDF5 file created using GalaxyDataExtractor class\n",
    "2. _gamma_n: Calculate the normalisation constant for the Laguerre Polynomial\n",
    "3. _G_n: Compute the Laguerre Basis Function as shown in Equation 6 from Math_Overview.ipynb\n",
    "4. laguerre_amplitudes: Compute laguerre sine and cos coefficients\n",
    "5. calculate_A1: Define A1 metric that is utilised during centre finding process\n",
    "6. calculate_gradient: At a certain (x,y) position calculate gradient of A1 matrix\n",
    "7. find_centre: Determine centre of expansion by minimising A1 using Newton-Raphson's method \n",
    "8. find_center_moments: Calculate the center of mass (centroid) of the image's surface mass distribution\n",
    "9. update_orders: After finding centre and scale length, adjust the mmax and nmax values as desired to account for finer structures. \n",
    "10. laguerre_reconstruction: Reconstruct the disc galaxy's surface density using the coefficients produced\n",
    "11. compute_ratio: Calculate ratio metric for each rscl value"
   ]
  },
  {
   "cell_type": "markdown",
   "id": "afabc8a1",
   "metadata": {},
   "source": [
    "**Refer to A. Ganapathy et al (2024) for more details regarding centre finding and scale length optimisation**"
   ]
  }
 ],
 "metadata": {
  "kernelspec": {
   "display_name": "Python 3 (ipykernel)",
   "language": "python",
   "name": "python3"
  },
  "language_info": {
   "codemirror_mode": {
    "name": "ipython",
    "version": 3
   },
   "file_extension": ".py",
   "mimetype": "text/x-python",
   "name": "python",
   "nbconvert_exporter": "python",
   "pygments_lexer": "ipython3",
   "version": "3.9.19"
  }
 },
 "nbformat": 4,
 "nbformat_minor": 5
}
