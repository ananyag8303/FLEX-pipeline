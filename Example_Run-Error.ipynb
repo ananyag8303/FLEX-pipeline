{
 "cells": [
  {
   "cell_type": "code",
   "execution_count": 1,
   "id": "3cc5909e",
   "metadata": {},
   "outputs": [],
   "source": [
    "# Import the python file containing the main classes and functions for this expansion\n",
    "import FLEX_Error\n",
    "from FLEX_Error import *"
   ]
  },
  {
   "cell_type": "code",
   "execution_count": 2,
   "id": "903f150e",
   "metadata": {
    "scrolled": false
   },
   "outputs": [
    {
     "name": "stdout",
     "output_type": "stream",
     "text": [
      "Enter a list of galaxy IDs (comma-separated, e.g., 12345,67890): 23205\n",
      "23205 coefficients for filter f444w saved successfully.\n",
      "23205 coefficients for filter f356w saved successfully.\n",
      "23205 coefficients for filter f277w saved successfully.\n",
      "23205 coefficients for filter f200w saved successfully.\n",
      "23205 coefficients for filter f115w saved successfully.\n",
      "23205 coefficients for filter f410m saved successfully.\n",
      "23205 coefficients for filter f125w saved successfully.\n",
      "23205 coefficients for filter f160w saved successfully.\n",
      "23205 coefficients for filter f606w saved successfully.\n",
      "23205 coefficients for filter f814w saved successfully.\n"
     ]
    }
   ],
   "source": [
    "# Main processing loop for all specified filters\n",
    "if __name__ == \"__main__\":\n",
    "    \n",
    "    # Define list of FITS file to search Galaxy ID from\n",
    "    fits_files = [f'f356w({i}).fits' for i in range(3, 4)]\n",
    "    \n",
    "    # CANDELS Catalogue to extract information from\n",
    "    filename = 'hlsp_candels_hst_wfc3_egs_multi_v1_mass-cat.csv.txt'\n",
    "    \n",
    "    # User created Galaxy IDs string\n",
    "    galaxy_ids_input = input(\"Enter a list of galaxy IDs (comma-separated, e.g., 12345,67890): \").strip()\n",
    "    \n",
    "    # Convert the above string to a list of IDs\n",
    "    galaxy_ids = [int(gid.strip()) for gid in galaxy_ids_input.split(',')]\n",
    "\n",
    "    # Loop to go through each ID in the above created list\n",
    "    for galaxy_id in galaxy_ids:\n",
    "        process_galaxy(galaxy_id, fits_files, filename)\n"
   ]
  },
  {
   "cell_type": "markdown",
   "id": "471a7bcb",
   "metadata": {},
   "source": [
    "<div style=\"text-align: center;\">\n",
    "    <strong style=\"font-size: 2em;\">Sample on how to read HDF5 file</strong>\n",
    "</div>"
   ]
  },
  {
   "cell_type": "code",
   "execution_count": 3,
   "id": "ca62fdbc",
   "metadata": {},
   "outputs": [
    {
     "name": "stdout",
     "output_type": "stream",
     "text": [
      "HDF5 file structure:\n",
      "f115w\n",
      "f115w/23205\n",
      "f115w/23205/expansion\n",
      "f115w/23205/expansion/coscoefs\n",
      "f115w/23205/expansion/sincoefs\n",
      "f125w\n",
      "f125w/23205\n",
      "f125w/23205/expansion\n",
      "f125w/23205/expansion/coscoefs\n",
      "f125w/23205/expansion/sincoefs\n",
      "f160w\n",
      "f160w/23205\n",
      "f160w/23205/expansion\n",
      "f160w/23205/expansion/coscoefs\n",
      "f160w/23205/expansion/sincoefs\n",
      "f200w\n",
      "f200w/23205\n",
      "f200w/23205/expansion\n",
      "f200w/23205/expansion/coscoefs\n",
      "f200w/23205/expansion/sincoefs\n",
      "f277w\n",
      "f277w/23205\n",
      "f277w/23205/expansion\n",
      "f277w/23205/expansion/coscoefs\n",
      "f277w/23205/expansion/sincoefs\n",
      "f356w\n",
      "f356w/23205\n",
      "f356w/23205/expansion\n",
      "f356w/23205/expansion/coscoefs\n",
      "f356w/23205/expansion/sincoefs\n",
      "f410m\n",
      "f410m/23205\n",
      "f410m/23205/expansion\n",
      "f410m/23205/expansion/coscoefs\n",
      "f410m/23205/expansion/sincoefs\n",
      "f444w\n",
      "f444w/23205\n",
      "f444w/23205/expansion\n",
      "f444w/23205/expansion/coscoefs\n",
      "f444w/23205/expansion/sincoefs\n",
      "f606w\n",
      "f606w/23205\n",
      "f606w/23205/expansion\n",
      "f606w/23205/expansion/coscoefs\n",
      "f606w/23205/expansion/sincoefs\n",
      "f814w\n",
      "f814w/23205\n",
      "f814w/23205/expansion\n",
      "f814w/23205/expansion/coscoefs\n",
      "f814w/23205/expansion/sincoefs\n"
     ]
    }
   ],
   "source": [
    "import h5py\n",
    "\n",
    "# Example usage\n",
    "galaxy_id = 23205  \n",
    "file_path = f\"{galaxy_id:05d}_error.hdf5\"\n",
    "\n",
    "def print_hdf5_structure(name, obj):\n",
    "    print(name)\n",
    "\n",
    "with h5py.File(file_path, 'r') as f:\n",
    "    print(\"HDF5 file structure:\")\n",
    "    f.visititems(print_hdf5_structure)\n"
   ]
  },
  {
   "cell_type": "code",
   "execution_count": 4,
   "id": "d75bac25",
   "metadata": {},
   "outputs": [
    {
     "name": "stdout",
     "output_type": "stream",
     "text": [
      "f444w\n",
      "Cosine Coefficients for filter F444W:\n",
      "<HDF5 dataset \"coscoefs\": shape (2, 24, 100), type \"<f8\">\n",
      "Sine Coefficients for filter F444W:\n",
      "<HDF5 dataset \"sincoefs\": shape (2, 24, 100), type \"<f8\">\n",
      "f410m\n",
      "Cosine Coefficients for filter F410M:\n",
      "<HDF5 dataset \"coscoefs\": shape (2, 24, 100), type \"<f8\">\n",
      "Sine Coefficients for filter F410M:\n",
      "<HDF5 dataset \"sincoefs\": shape (2, 24, 100), type \"<f8\">\n",
      "f356w\n",
      "Cosine Coefficients for filter F356W:\n",
      "<HDF5 dataset \"coscoefs\": shape (2, 24, 100), type \"<f8\">\n",
      "Sine Coefficients for filter F356W:\n",
      "<HDF5 dataset \"sincoefs\": shape (2, 24, 100), type \"<f8\">\n",
      "f277w\n",
      "Cosine Coefficients for filter F277W:\n",
      "<HDF5 dataset \"coscoefs\": shape (2, 24, 100), type \"<f8\">\n",
      "Sine Coefficients for filter F277W:\n",
      "<HDF5 dataset \"sincoefs\": shape (2, 24, 100), type \"<f8\">\n",
      "f200w\n",
      "Cosine Coefficients for filter F200W:\n",
      "<HDF5 dataset \"coscoefs\": shape (2, 24, 100), type \"<f8\">\n",
      "Sine Coefficients for filter F200W:\n",
      "<HDF5 dataset \"sincoefs\": shape (2, 24, 100), type \"<f8\">\n",
      "f160w\n",
      "Cosine Coefficients for filter F160W:\n",
      "<HDF5 dataset \"coscoefs\": shape (2, 24, 100), type \"<f8\">\n",
      "Sine Coefficients for filter F160W:\n",
      "<HDF5 dataset \"sincoefs\": shape (2, 24, 100), type \"<f8\">\n",
      "f125w\n",
      "Cosine Coefficients for filter F125W:\n",
      "<HDF5 dataset \"coscoefs\": shape (2, 24, 100), type \"<f8\">\n",
      "Sine Coefficients for filter F125W:\n",
      "<HDF5 dataset \"sincoefs\": shape (2, 24, 100), type \"<f8\">\n",
      "f115w\n",
      "Cosine Coefficients for filter F115W:\n",
      "<HDF5 dataset \"coscoefs\": shape (2, 24, 100), type \"<f8\">\n",
      "Sine Coefficients for filter F115W:\n",
      "<HDF5 dataset \"sincoefs\": shape (2, 24, 100), type \"<f8\">\n",
      "f606w\n",
      "Cosine Coefficients for filter F606W:\n",
      "<HDF5 dataset \"coscoefs\": shape (2, 24, 100), type \"<f8\">\n",
      "Sine Coefficients for filter F606W:\n",
      "<HDF5 dataset \"sincoefs\": shape (2, 24, 100), type \"<f8\">\n",
      "f814w\n",
      "Cosine Coefficients for filter F814W:\n",
      "<HDF5 dataset \"coscoefs\": shape (2, 24, 100), type \"<f8\">\n",
      "Sine Coefficients for filter F814W:\n",
      "<HDF5 dataset \"sincoefs\": shape (2, 24, 100), type \"<f8\">\n"
     ]
    }
   ],
   "source": [
    "import h5py\n",
    "\n",
    "# Example usage\n",
    "galaxy_id = 23205  \n",
    "file_path = f\"{galaxy_id:05d}_error.hdf5\"\n",
    "\n",
    "# Assuming filters are given as\n",
    "# filters = ['F444W']\n",
    "filters = ['F444W', 'F410M', 'F356W', 'F277W', 'F200W', 'F160W', 'F125W', 'F115W', 'F606W', 'F814W']\n",
    "\n",
    "with h5py.File(file_path, 'r') as f:\n",
    "    for filter_name in filters:\n",
    "        \n",
    "        key = filter_name.lower()\n",
    "        print(key)\n",
    "        \n",
    "        coscoefs_data = f[f'{key}/{galaxy_id}/expansion/coscoefs']\n",
    "        sincoefs_data = f[f'{key}/{galaxy_id}/expansion/sincoefs']\n",
    "        print(f\"Cosine Coefficients for filter {filter_name}:\")\n",
    "        print(coscoefs_data)\n",
    "        print(f\"Sine Coefficients for filter {filter_name}:\")\n",
    "        print(sincoefs_data)\n"
   ]
  },
  {
   "cell_type": "code",
   "execution_count": null,
   "id": "d405b0fd",
   "metadata": {},
   "outputs": [],
   "source": []
  }
 ],
 "metadata": {
  "kernelspec": {
   "display_name": "Python 3 (ipykernel)",
   "language": "python",
   "name": "python3"
  },
  "language_info": {
   "codemirror_mode": {
    "name": "ipython",
    "version": 3
   },
   "file_extension": ".py",
   "mimetype": "text/x-python",
   "name": "python",
   "nbconvert_exporter": "python",
   "pygments_lexer": "ipython3",
   "version": "3.9.19"
  }
 },
 "nbformat": 4,
 "nbformat_minor": 5
}
