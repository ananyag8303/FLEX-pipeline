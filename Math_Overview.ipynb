{
 "cells": [
  {
   "attachments": {},
   "cell_type": "markdown",
   "id": "92f3a9e0",
   "metadata": {},
   "source": [
    "<div style=\"text-align: center;\">\n",
    "    <strong style=\"font-size: 2em;\">FLEX Pipeline - Math Overview</strong>\n",
    "\n",
    "\n",
    "This framework represents galaxies using a Fourier-Laguerre 2D expansion.\n",
    "\n",
    "Disc galaxies tend to have an exponential surface brightness profile\n",
    "\\begin{align}\n",
    "\\Sigma(R) \\propto \\exp\\left(-\\frac{R}{a}\\right) \\label{eq1}\\tag{1}\n",
    "\\end{align}\n",
    "where '$R$' is the 2D radius and '$a$' is the scale length of the disc. \n",
    "\n",
    "In the radial '$R$' coordinate, Laguerre polynomials are used as the exponential weighting function matches the exponential profile of a typical disc galaxy (cf. Equation \\ref{eq1}):\n",
    "\n",
    "\\begin{align}\n",
    "G_n(R)=\\frac{1}{a\\sqrt{n+1}}~\\exp\\left(-\\frac{R}{a}\\right)~L_n^1\\left(\\frac{2R}{a}\\right) \\label{eq2}\\tag{2}\n",
    "\\end{align}\n",
    "\n",
    "Here, $L_n^1$ is the associated Laguerre polynomial of order $\\alpha=1$ and degree '$n$', and '$a$' is the expansion scale length (chosen to be equivalent to the disc scale length). As the $n=0$ polynomial is a constant, Equation \\ref{eq2} matches the expected exponential surface brightness. Increasing values of '$n$' add additional 'nodes' to the Laguerre function, which correspond to excesses (decrements) above (below) the exponential profile.\n",
    "\n",
    "Galaxies are often reasonably smooth in the azimuthal coordinate '$\\phi$', with low-order multiplicity '$m$' that can be described by Fourier series. Hence, Fourier-Laguerre basis functions, given by\n",
    "\n",
    "\\begin{align}\n",
    "    \\begin{split}\n",
    "        f_{mn} &= G_n(R)\\exp\\left(m\\phi\\right) \n",
    "    \\end{split}\n",
    "    \\label{eq3}\\tag{3}\n",
    "\\end{align}\n",
    "\n",
    "can accurately model the surface brightness profile of discs in two dimensions, in appropriately chosen combinations. In practice, we compute the exponential using cosine and sine, corresponding to the real and imaginary part, respectively. Determining the weighting of each function in the expansion is straightforward, from the two-dimensional surface brightness of the galaxy,\n",
    "\n",
    "\\begin{align}\n",
    "    \\begin{split}\n",
    "        \\hat{c}_{mn} &= \\frac{1}{2\\pi}\\sum_x \\sum_y \\Sigma(R_{xy}, \\phi_{xy})G_n(R_{xy}) \\cos\\left(m\\phi_{xy}\\right)\\\\\n",
    "        \\hat{s}_{mn} &= \\frac{1}{2\\pi}\\sum_x \\sum_y \\Sigma(R_{xy}, \\phi_{xy})G_n(R_{xy}) \\sin\\left(m\\phi_{xy}\\right)\n",
    "    \\end{split}\n",
    "    \\label{eq4}\\tag{4}\n",
    "\\end{align}\n",
    "\n",
    "where the discrete summations are over individual pixels in the image, indexed by $(x,y)$. \n",
    "\n",
    "The reconstructed surface density at each $(x,y)$ pixel location, $\\hat{\\Sigma}(R, \\phi)$, is then\n",
    "\n",
    "\\begin{align}\n",
    "    \\hat{\\Sigma}(R_{xy}, \\phi_{xy}) = \\sum_{m=0}^{m_{\\rm max}}\\sum_{n=0}^{n_{\\rm max}} \\left[\\hat{c}_{mn}\\cos\\left(m\\phi_{xy}\\right) + \\hat{s}_{mn}\\sin\\left(m\\phi_{xy}\\right)\\right]G_n(R_{xy}) \\label{eq5}\\tag{5}\n",
    "\\end{align}"
   ]
  }
 ],
 "metadata": {
  "kernelspec": {
   "display_name": "Python 3 (ipykernel)",
   "language": "python",
   "name": "python3"
  },
  "language_info": {
   "codemirror_mode": {
    "name": "ipython",
    "version": 3
   },
   "file_extension": ".py",
   "mimetype": "text/x-python",
   "name": "python",
   "nbconvert_exporter": "python",
   "pygments_lexer": "ipython3",
   "version": "3.9.19"
  }
 },
 "nbformat": 4,
 "nbformat_minor": 5
}
